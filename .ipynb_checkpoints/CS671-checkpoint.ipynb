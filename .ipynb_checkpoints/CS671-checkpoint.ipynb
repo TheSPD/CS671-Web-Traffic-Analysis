{
 "cells": [
  {
   "cell_type": "code",
   "execution_count": 1,
   "metadata": {
    "collapsed": true
   },
   "outputs": [],
   "source": [
    "#Importing Libraries\n",
    "import numpy as np\n",
    "import pandas as pd\n",
    "import matplotlib.pyplot as plt\n",
    "import re\n",
    "from sklearn import preprocessing\n",
    "import sys\n",
    "from sklearn.model_selection import train_test_split\n",
    "\n",
    "# Importing the Keras libraries and packages for LSTM\n",
    "from keras.models import Sequential\n",
    "from keras.layers import Dense\n",
    "from keras.layers import LSTM\n",
    "from keras.callbacks import TensorBoard"
   ]
  },
  {
   "cell_type": "markdown",
   "metadata": {},
   "source": [
    "### Reading Dataset\n",
    "The dataset is read from the training file, full data is stored in `train` and TV series data is filtered and stored in `train_TV`"
   ]
  },
  {
   "cell_type": "code",
   "execution_count": 2,
   "metadata": {
    "scrolled": true
   },
   "outputs": [
    {
     "data": {
      "text/html": [
       "<div>\n",
       "<style>\n",
       "    .dataframe thead tr:only-child th {\n",
       "        text-align: right;\n",
       "    }\n",
       "\n",
       "    .dataframe thead th {\n",
       "        text-align: left;\n",
       "    }\n",
       "\n",
       "    .dataframe tbody tr th {\n",
       "        vertical-align: top;\n",
       "    }\n",
       "</style>\n",
       "<table border=\"1\" class=\"dataframe\">\n",
       "  <thead>\n",
       "    <tr style=\"text-align: right;\">\n",
       "      <th></th>\n",
       "      <th>Page</th>\n",
       "      <th>2015-07-01</th>\n",
       "      <th>2015-07-02</th>\n",
       "      <th>2015-07-03</th>\n",
       "      <th>2015-07-04</th>\n",
       "      <th>2015-07-05</th>\n",
       "      <th>2015-07-06</th>\n",
       "      <th>2015-07-07</th>\n",
       "      <th>2015-07-08</th>\n",
       "      <th>2015-07-09</th>\n",
       "      <th>...</th>\n",
       "      <th>2016-12-22</th>\n",
       "      <th>2016-12-23</th>\n",
       "      <th>2016-12-24</th>\n",
       "      <th>2016-12-25</th>\n",
       "      <th>2016-12-26</th>\n",
       "      <th>2016-12-27</th>\n",
       "      <th>2016-12-28</th>\n",
       "      <th>2016-12-29</th>\n",
       "      <th>2016-12-30</th>\n",
       "      <th>2016-12-31</th>\n",
       "    </tr>\n",
       "  </thead>\n",
       "  <tbody>\n",
       "    <tr>\n",
       "      <th>0</th>\n",
       "      <td>2NE1_zh.wikipedia.org_all-access_spider</td>\n",
       "      <td>18.0</td>\n",
       "      <td>11.0</td>\n",
       "      <td>5.0</td>\n",
       "      <td>13.0</td>\n",
       "      <td>14.0</td>\n",
       "      <td>9.0</td>\n",
       "      <td>9.0</td>\n",
       "      <td>22.0</td>\n",
       "      <td>26.0</td>\n",
       "      <td>...</td>\n",
       "      <td>32.0</td>\n",
       "      <td>63.0</td>\n",
       "      <td>15.0</td>\n",
       "      <td>26.0</td>\n",
       "      <td>14.0</td>\n",
       "      <td>20.0</td>\n",
       "      <td>22.0</td>\n",
       "      <td>19.0</td>\n",
       "      <td>18.0</td>\n",
       "      <td>20.0</td>\n",
       "    </tr>\n",
       "    <tr>\n",
       "      <th>1</th>\n",
       "      <td>2PM_zh.wikipedia.org_all-access_spider</td>\n",
       "      <td>11.0</td>\n",
       "      <td>14.0</td>\n",
       "      <td>15.0</td>\n",
       "      <td>18.0</td>\n",
       "      <td>11.0</td>\n",
       "      <td>13.0</td>\n",
       "      <td>22.0</td>\n",
       "      <td>11.0</td>\n",
       "      <td>10.0</td>\n",
       "      <td>...</td>\n",
       "      <td>17.0</td>\n",
       "      <td>42.0</td>\n",
       "      <td>28.0</td>\n",
       "      <td>15.0</td>\n",
       "      <td>9.0</td>\n",
       "      <td>30.0</td>\n",
       "      <td>52.0</td>\n",
       "      <td>45.0</td>\n",
       "      <td>26.0</td>\n",
       "      <td>20.0</td>\n",
       "    </tr>\n",
       "    <tr>\n",
       "      <th>2</th>\n",
       "      <td>3C_zh.wikipedia.org_all-access_spider</td>\n",
       "      <td>1.0</td>\n",
       "      <td>0.0</td>\n",
       "      <td>1.0</td>\n",
       "      <td>1.0</td>\n",
       "      <td>0.0</td>\n",
       "      <td>4.0</td>\n",
       "      <td>0.0</td>\n",
       "      <td>3.0</td>\n",
       "      <td>4.0</td>\n",
       "      <td>...</td>\n",
       "      <td>3.0</td>\n",
       "      <td>1.0</td>\n",
       "      <td>1.0</td>\n",
       "      <td>7.0</td>\n",
       "      <td>4.0</td>\n",
       "      <td>4.0</td>\n",
       "      <td>6.0</td>\n",
       "      <td>3.0</td>\n",
       "      <td>4.0</td>\n",
       "      <td>17.0</td>\n",
       "    </tr>\n",
       "    <tr>\n",
       "      <th>3</th>\n",
       "      <td>4minute_zh.wikipedia.org_all-access_spider</td>\n",
       "      <td>35.0</td>\n",
       "      <td>13.0</td>\n",
       "      <td>10.0</td>\n",
       "      <td>94.0</td>\n",
       "      <td>4.0</td>\n",
       "      <td>26.0</td>\n",
       "      <td>14.0</td>\n",
       "      <td>9.0</td>\n",
       "      <td>11.0</td>\n",
       "      <td>...</td>\n",
       "      <td>32.0</td>\n",
       "      <td>10.0</td>\n",
       "      <td>26.0</td>\n",
       "      <td>27.0</td>\n",
       "      <td>16.0</td>\n",
       "      <td>11.0</td>\n",
       "      <td>17.0</td>\n",
       "      <td>19.0</td>\n",
       "      <td>10.0</td>\n",
       "      <td>11.0</td>\n",
       "    </tr>\n",
       "    <tr>\n",
       "      <th>4</th>\n",
       "      <td>52_Hz_I_Love_You_zh.wikipedia.org_all-access_s...</td>\n",
       "      <td>0.0</td>\n",
       "      <td>0.0</td>\n",
       "      <td>0.0</td>\n",
       "      <td>0.0</td>\n",
       "      <td>0.0</td>\n",
       "      <td>0.0</td>\n",
       "      <td>0.0</td>\n",
       "      <td>0.0</td>\n",
       "      <td>0.0</td>\n",
       "      <td>...</td>\n",
       "      <td>48.0</td>\n",
       "      <td>9.0</td>\n",
       "      <td>25.0</td>\n",
       "      <td>13.0</td>\n",
       "      <td>3.0</td>\n",
       "      <td>11.0</td>\n",
       "      <td>27.0</td>\n",
       "      <td>13.0</td>\n",
       "      <td>36.0</td>\n",
       "      <td>10.0</td>\n",
       "    </tr>\n",
       "  </tbody>\n",
       "</table>\n",
       "<p>5 rows × 551 columns</p>\n",
       "</div>"
      ],
      "text/plain": [
       "                                                Page  2015-07-01  2015-07-02  \\\n",
       "0            2NE1_zh.wikipedia.org_all-access_spider        18.0        11.0   \n",
       "1             2PM_zh.wikipedia.org_all-access_spider        11.0        14.0   \n",
       "2              3C_zh.wikipedia.org_all-access_spider         1.0         0.0   \n",
       "3         4minute_zh.wikipedia.org_all-access_spider        35.0        13.0   \n",
       "4  52_Hz_I_Love_You_zh.wikipedia.org_all-access_s...         0.0         0.0   \n",
       "\n",
       "   2015-07-03  2015-07-04  2015-07-05  2015-07-06  2015-07-07  2015-07-08  \\\n",
       "0         5.0        13.0        14.0         9.0         9.0        22.0   \n",
       "1        15.0        18.0        11.0        13.0        22.0        11.0   \n",
       "2         1.0         1.0         0.0         4.0         0.0         3.0   \n",
       "3        10.0        94.0         4.0        26.0        14.0         9.0   \n",
       "4         0.0         0.0         0.0         0.0         0.0         0.0   \n",
       "\n",
       "   2015-07-09     ...      2016-12-22  2016-12-23  2016-12-24  2016-12-25  \\\n",
       "0        26.0     ...            32.0        63.0        15.0        26.0   \n",
       "1        10.0     ...            17.0        42.0        28.0        15.0   \n",
       "2         4.0     ...             3.0         1.0         1.0         7.0   \n",
       "3        11.0     ...            32.0        10.0        26.0        27.0   \n",
       "4         0.0     ...            48.0         9.0        25.0        13.0   \n",
       "\n",
       "   2016-12-26  2016-12-27  2016-12-28  2016-12-29  2016-12-30  2016-12-31  \n",
       "0        14.0        20.0        22.0        19.0        18.0        20.0  \n",
       "1         9.0        30.0        52.0        45.0        26.0        20.0  \n",
       "2         4.0         4.0         6.0         3.0         4.0        17.0  \n",
       "3        16.0        11.0        17.0        19.0        10.0        11.0  \n",
       "4         3.0        11.0        27.0        13.0        36.0        10.0  \n",
       "\n",
       "[5 rows x 551 columns]"
      ]
     },
     "execution_count": 2,
     "metadata": {},
     "output_type": "execute_result"
    }
   ],
   "source": [
    "#Importing dataset\n",
    "train = pd.read_csv('./data/train_1.csv').fillna(0)\n",
    "page = train['Page']\n",
    "train.head()"
   ]
  },
  {
   "cell_type": "code",
   "execution_count": 4,
   "metadata": {
    "scrolled": true
   },
   "outputs": [
    {
     "data": {
      "text/html": [
       "<div>\n",
       "<style>\n",
       "    .dataframe thead tr:only-child th {\n",
       "        text-align: right;\n",
       "    }\n",
       "\n",
       "    .dataframe thead th {\n",
       "        text-align: left;\n",
       "    }\n",
       "\n",
       "    .dataframe tbody tr th {\n",
       "        vertical-align: top;\n",
       "    }\n",
       "</style>\n",
       "<table border=\"1\" class=\"dataframe\">\n",
       "  <thead>\n",
       "    <tr style=\"text-align: right;\">\n",
       "      <th></th>\n",
       "      <th>Page</th>\n",
       "      <th>2015-07-01</th>\n",
       "      <th>2015-07-02</th>\n",
       "      <th>2015-07-03</th>\n",
       "      <th>2015-07-04</th>\n",
       "      <th>2015-07-05</th>\n",
       "      <th>2015-07-06</th>\n",
       "      <th>2015-07-07</th>\n",
       "      <th>2015-07-08</th>\n",
       "      <th>2015-07-09</th>\n",
       "      <th>...</th>\n",
       "      <th>2016-12-22</th>\n",
       "      <th>2016-12-23</th>\n",
       "      <th>2016-12-24</th>\n",
       "      <th>2016-12-25</th>\n",
       "      <th>2016-12-26</th>\n",
       "      <th>2016-12-27</th>\n",
       "      <th>2016-12-28</th>\n",
       "      <th>2016-12-29</th>\n",
       "      <th>2016-12-30</th>\n",
       "      <th>2016-12-31</th>\n",
       "    </tr>\n",
       "  </thead>\n",
       "  <tbody>\n",
       "    <tr>\n",
       "      <th>8457</th>\n",
       "      <td>A_Series_of_Unfortunate_Events_(TV_series)_en....</td>\n",
       "      <td>0.0</td>\n",
       "      <td>0.0</td>\n",
       "      <td>0.0</td>\n",
       "      <td>0.0</td>\n",
       "      <td>5.0</td>\n",
       "      <td>30.0</td>\n",
       "      <td>5.0</td>\n",
       "      <td>3.0</td>\n",
       "      <td>2.0</td>\n",
       "      <td>...</td>\n",
       "      <td>1853.0</td>\n",
       "      <td>2023.0</td>\n",
       "      <td>1767.0</td>\n",
       "      <td>1525.0</td>\n",
       "      <td>1959.0</td>\n",
       "      <td>2279.0</td>\n",
       "      <td>2564.0</td>\n",
       "      <td>2192.0</td>\n",
       "      <td>1959.0</td>\n",
       "      <td>1614.0</td>\n",
       "    </tr>\n",
       "    <tr>\n",
       "      <th>8515</th>\n",
       "      <td>American_Crime_(TV_series)_en.wikipedia.org_de...</td>\n",
       "      <td>876.0</td>\n",
       "      <td>663.0</td>\n",
       "      <td>671.0</td>\n",
       "      <td>660.0</td>\n",
       "      <td>727.0</td>\n",
       "      <td>947.0</td>\n",
       "      <td>739.0</td>\n",
       "      <td>749.0</td>\n",
       "      <td>736.0</td>\n",
       "      <td>...</td>\n",
       "      <td>1170.0</td>\n",
       "      <td>953.0</td>\n",
       "      <td>836.0</td>\n",
       "      <td>728.0</td>\n",
       "      <td>1078.0</td>\n",
       "      <td>1258.0</td>\n",
       "      <td>1253.0</td>\n",
       "      <td>1352.0</td>\n",
       "      <td>1178.0</td>\n",
       "      <td>1082.0</td>\n",
       "    </tr>\n",
       "    <tr>\n",
       "      <th>8538</th>\n",
       "      <td>Animal_Kingdom_(TV_series)_en.wikipedia.org_de...</td>\n",
       "      <td>0.0</td>\n",
       "      <td>0.0</td>\n",
       "      <td>0.0</td>\n",
       "      <td>0.0</td>\n",
       "      <td>0.0</td>\n",
       "      <td>0.0</td>\n",
       "      <td>0.0</td>\n",
       "      <td>0.0</td>\n",
       "      <td>0.0</td>\n",
       "      <td>...</td>\n",
       "      <td>706.0</td>\n",
       "      <td>599.0</td>\n",
       "      <td>607.0</td>\n",
       "      <td>458.0</td>\n",
       "      <td>741.0</td>\n",
       "      <td>1108.0</td>\n",
       "      <td>2496.0</td>\n",
       "      <td>2832.0</td>\n",
       "      <td>1141.0</td>\n",
       "      <td>871.0</td>\n",
       "    </tr>\n",
       "    <tr>\n",
       "      <th>8567</th>\n",
       "      <td>Arrow_(TV_series)_en.wikipedia.org_desktop_all...</td>\n",
       "      <td>8233.0</td>\n",
       "      <td>7920.0</td>\n",
       "      <td>7049.0</td>\n",
       "      <td>6736.0</td>\n",
       "      <td>8129.0</td>\n",
       "      <td>8946.0</td>\n",
       "      <td>8638.0</td>\n",
       "      <td>8529.0</td>\n",
       "      <td>8812.0</td>\n",
       "      <td>...</td>\n",
       "      <td>6482.0</td>\n",
       "      <td>5263.0</td>\n",
       "      <td>4435.0</td>\n",
       "      <td>4269.0</td>\n",
       "      <td>5299.0</td>\n",
       "      <td>6665.0</td>\n",
       "      <td>6684.0</td>\n",
       "      <td>6538.0</td>\n",
       "      <td>5870.0</td>\n",
       "      <td>4593.0</td>\n",
       "    </tr>\n",
       "    <tr>\n",
       "      <th>8621</th>\n",
       "      <td>Bates_Motel_(TV_series)_en.wikipedia.org_deskt...</td>\n",
       "      <td>2025.0</td>\n",
       "      <td>1953.0</td>\n",
       "      <td>2088.0</td>\n",
       "      <td>1969.0</td>\n",
       "      <td>2079.0</td>\n",
       "      <td>2632.0</td>\n",
       "      <td>2266.0</td>\n",
       "      <td>2368.0</td>\n",
       "      <td>2171.0</td>\n",
       "      <td>...</td>\n",
       "      <td>1496.0</td>\n",
       "      <td>1199.0</td>\n",
       "      <td>1113.0</td>\n",
       "      <td>1022.0</td>\n",
       "      <td>1335.0</td>\n",
       "      <td>1757.0</td>\n",
       "      <td>1690.0</td>\n",
       "      <td>1609.0</td>\n",
       "      <td>1568.0</td>\n",
       "      <td>1338.0</td>\n",
       "    </tr>\n",
       "  </tbody>\n",
       "</table>\n",
       "<p>5 rows × 551 columns</p>\n",
       "</div>"
      ],
      "text/plain": [
       "                                                   Page  2015-07-01  \\\n",
       "8457  A_Series_of_Unfortunate_Events_(TV_series)_en....         0.0   \n",
       "8515  American_Crime_(TV_series)_en.wikipedia.org_de...       876.0   \n",
       "8538  Animal_Kingdom_(TV_series)_en.wikipedia.org_de...         0.0   \n",
       "8567  Arrow_(TV_series)_en.wikipedia.org_desktop_all...      8233.0   \n",
       "8621  Bates_Motel_(TV_series)_en.wikipedia.org_deskt...      2025.0   \n",
       "\n",
       "      2015-07-02  2015-07-03  2015-07-04  2015-07-05  2015-07-06  2015-07-07  \\\n",
       "8457         0.0         0.0         0.0         5.0        30.0         5.0   \n",
       "8515       663.0       671.0       660.0       727.0       947.0       739.0   \n",
       "8538         0.0         0.0         0.0         0.0         0.0         0.0   \n",
       "8567      7920.0      7049.0      6736.0      8129.0      8946.0      8638.0   \n",
       "8621      1953.0      2088.0      1969.0      2079.0      2632.0      2266.0   \n",
       "\n",
       "      2015-07-08  2015-07-09     ...      2016-12-22  2016-12-23  2016-12-24  \\\n",
       "8457         3.0         2.0     ...          1853.0      2023.0      1767.0   \n",
       "8515       749.0       736.0     ...          1170.0       953.0       836.0   \n",
       "8538         0.0         0.0     ...           706.0       599.0       607.0   \n",
       "8567      8529.0      8812.0     ...          6482.0      5263.0      4435.0   \n",
       "8621      2368.0      2171.0     ...          1496.0      1199.0      1113.0   \n",
       "\n",
       "      2016-12-25  2016-12-26  2016-12-27  2016-12-28  2016-12-29  2016-12-30  \\\n",
       "8457      1525.0      1959.0      2279.0      2564.0      2192.0      1959.0   \n",
       "8515       728.0      1078.0      1258.0      1253.0      1352.0      1178.0   \n",
       "8538       458.0       741.0      1108.0      2496.0      2832.0      1141.0   \n",
       "8567      4269.0      5299.0      6665.0      6684.0      6538.0      5870.0   \n",
       "8621      1022.0      1335.0      1757.0      1690.0      1609.0      1568.0   \n",
       "\n",
       "      2016-12-31  \n",
       "8457      1614.0  \n",
       "8515      1082.0  \n",
       "8538       871.0  \n",
       "8567      4593.0  \n",
       "8621      1338.0  \n",
       "\n",
       "[5 rows x 551 columns]"
      ]
     },
     "execution_count": 4,
     "metadata": {},
     "output_type": "execute_result"
    }
   ],
   "source": [
    "train_TV = train[train['Page'].str.contains('TV_series')]\n",
    "train_TV.head()"
   ]
  },
  {
   "cell_type": "markdown",
   "metadata": {},
   "source": [
    "### Extracting the features\n",
    "The features are extracted from the Page name"
   ]
  },
  {
   "cell_type": "code",
   "execution_count": 3,
   "metadata": {
    "collapsed": true
   },
   "outputs": [],
   "source": [
    "def get_source(page):\n",
    "    res = re.search('_[a-z]+\\.[a-z]+\\.[a-z]+_[a-z\\-]+_[a-z]+',page)\n",
    "    if res:\n",
    "        return res.group().split('_')[1]\n",
    "    return 'na'\n",
    "\n",
    "def get_access(page):\n",
    "    res = re.search('_[a-z]+\\.[a-z]+\\.[a-z]+_[a-z\\-]+_[a-z]+',page)\n",
    "    if res:\n",
    "        return res.group().split('_')[2]\n",
    "    return 'na'\n",
    "\n",
    "def get_agent(page):\n",
    "    res = re.search('_[a-z]+\\.[a-z]+\\.[a-z]+_[a-z\\-]+_[a-z]+',page)\n",
    "    if res:\n",
    "        return res.group().split('_')[3]\n",
    "    return 'na'"
   ]
  },
  {
   "cell_type": "markdown",
   "metadata": {},
   "source": [
    "Separate code for full dataset and tv series dataset"
   ]
  },
  {
   "cell_type": "code",
   "execution_count": null,
   "metadata": {
    "collapsed": true
   },
   "outputs": [],
   "source": [
    "source = train.Page.map(get_source)\n",
    "access = train.Page.map(get_access)\n",
    "agent = train.Page.map(get_agent)\n",
    "\n",
    "le = preprocessing.LabelEncoder()\n",
    "source = le.fit_transform(source)\n",
    "access = le.fit_transform(access)\n",
    "agent = le.fit_transform(agent)"
   ]
  },
  {
   "cell_type": "code",
   "execution_count": 5,
   "metadata": {
    "collapsed": true
   },
   "outputs": [],
   "source": [
    "source_TV = train_TV.Page.map(get_source)\n",
    "access_TV = train_TV.Page.map(get_access)\n",
    "agent_TV = train_TV.Page.map(get_agent)\n",
    "\n",
    "le = preprocessing.LabelEncoder()\n",
    "source_TV = le.fit_transform(source_TV)\n",
    "access_TV = le.fit_transform(access_TV)\n",
    "agent_TV = le.fit_transform(agent_TV)"
   ]
  },
  {
   "cell_type": "markdown",
   "metadata": {},
   "source": [
    "Dropping the Page column from the dataset"
   ]
  },
  {
   "cell_type": "code",
   "execution_count": 6,
   "metadata": {},
   "outputs": [],
   "source": [
    "train = train.drop('Page',axis=1)\n",
    "train_TV = train_TV.drop('Page', axis=1)"
   ]
  },
  {
   "cell_type": "markdown",
   "metadata": {},
   "source": [
    "### One hot encoding\n",
    "\n",
    "One-hot encoding the categories, of course separately for TV series and full dataset"
   ]
  },
  {
   "cell_type": "code",
   "execution_count": 7,
   "metadata": {
    "collapsed": true
   },
   "outputs": [],
   "source": [
    "source = np.reshape(source, (-1,1))\n",
    "access = np.reshape(access, (-1,1))\n",
    "agent = np.reshape(agent, (-1,1))\n",
    "\n",
    "enc = preprocessing.OneHotEncoder()\n",
    "\n",
    "source = enc.fit_transform(source)\n",
    "access = enc.fit_transform(access)\n",
    "agent = enc.fit_transform(agent)"
   ]
  },
  {
   "cell_type": "code",
   "execution_count": 8,
   "metadata": {
    "collapsed": true
   },
   "outputs": [],
   "source": [
    "source_TV = np.reshape(source_TV, (-1,1))\n",
    "access_TV = np.reshape(access_TV, (-1,1))\n",
    "agent_TV = np.reshape(agent_TV, (-1,1))\n",
    "\n",
    "enc = preprocessing.OneHotEncoder()\n",
    "\n",
    "source_TV = enc.fit_transform(source_TV)\n",
    "access_TV = enc.fit_transform(access_TV)\n",
    "agent_TV = enc.fit_transform(agent_TV)"
   ]
  },
  {
   "cell_type": "markdown",
   "metadata": {},
   "source": [
    "Making sure that we're on right track"
   ]
  },
  {
   "cell_type": "code",
   "execution_count": 9,
   "metadata": {},
   "outputs": [
    {
     "name": "stdout",
     "output_type": "stream",
     "text": [
      "(145063, 9) (145063, 550) (538, 1) (538, 550)\n"
     ]
    }
   ],
   "source": [
    "print source.shape, train.shape, source_TV.shape, train_TV.shape"
   ]
  },
  {
   "cell_type": "markdown",
   "metadata": {},
   "source": [
    "Aggregating all the data (one-hot encodings and real-values) into one monolithic data structure."
   ]
  },
  {
   "cell_type": "code",
   "execution_count": 10,
   "metadata": {},
   "outputs": [
    {
     "name": "stdout",
     "output_type": "stream",
     "text": [
      "(5000, 15, 550) 314\n"
     ]
    }
   ],
   "source": [
    "rows = []\n",
    "\n",
    "## Memory issues if we select the whole training data\n",
    "## Please refer to the the attached python code to see the implementation using generator\n",
    "# for article in range(len(train)):\n",
    "for article in range(5000):\n",
    "    row = train.iloc[article,:].values\n",
    "    row_len = len(row)\n",
    "    row = np.reshape(row,(1,row_len))\n",
    "    sourceCol = np.rot90(np.repeat(source[article,:].toarray(), row_len, axis=0),1,(0,1))\n",
    "    accessCol = np.rot90(np.repeat(access[article,:].toarray(), row_len, axis=0),1,(0,1))\n",
    "    agentCol = np.rot90(np.repeat(agent[article,:].toarray(), row_len, axis=0),1,(0,1))\n",
    "    row = np.append(row, sourceCol, axis=0)\n",
    "    row = np.append(row, accessCol, axis=0)\n",
    "    row = np.append(row, agentCol, axis=0)\n",
    "    rows.append(row)\n",
    "\n",
    "rows = np.array(rows)    \n",
    "print rows.shape, sys.getsizeof(rows)/(1024*1024)"
   ]
  },
  {
   "cell_type": "code",
   "execution_count": 11,
   "metadata": {},
   "outputs": [
    {
     "name": "stdout",
     "output_type": "stream",
     "text": [
      "(5000, 15, 550) 15\n"
     ]
    }
   ],
   "source": [
    "rows_TV = []\n",
    "\n",
    "for article in range(len(train_TV)):\n",
    "    row = train_TV.iloc[article,:].values\n",
    "    row_len = len(row)\n",
    "    row = np.reshape(row,(1,row_len))\n",
    "    sourceCol = np.rot90(np.repeat(source_TV[article,:].toarray(), row_len, axis=0),1,(0,1))\n",
    "    accessCol = np.rot90(np.repeat(access_TV[article,:].toarray(), row_len, axis=0),1,(0,1))\n",
    "    agentCol = np.rot90(np.repeat(agent_TV[article,:].toarray(), row_len, axis=0),1,(0,1))\n",
    "    row = np.append(row, sourceCol, axis=0)\n",
    "    row = np.append(row, accessCol, axis=0)\n",
    "    row = np.append(row, agentCol, axis=0)\n",
    "    rows_TV.append(row)\n",
    "\n",
    "rows_TV = np.array(rows_TV)    \n",
    "print rows.shape, sys.getsizeof(rows_TV)/(1024*1024)"
   ]
  },
  {
   "cell_type": "markdown",
   "metadata": {},
   "source": [
    "### Converting to time-series data\n",
    "The time series data with 7 sequence length. We can try out different `seq_length` by changing this variable"
   ]
  },
  {
   "cell_type": "code",
   "execution_count": 12,
   "metadata": {
    "scrolled": true
   },
   "outputs": [
    {
     "name": "stdout",
     "output_type": "stream",
     "text": [
      "(2715000, 7, 15) 2715000 2174\n"
     ]
    }
   ],
   "source": [
    "seq_length = 7\n",
    "\n",
    "X = []\n",
    "y = []\n",
    "\n",
    "## Refer to above comment - This is a sample -Check generator code in python files attached\n",
    "# for article in range(len(train)):\n",
    "for article in range(5000):\n",
    "    for i in range(0, len(rows[article,0]) - seq_length, 1):\n",
    "        ts_data = rows[article, :, i: i + seq_length]\n",
    "        ts_data = np.rot90(ts_data, 3, (0,1))\n",
    "        ts_output = rows[article, 0, i + seq_length]\n",
    "        X.append(ts_data)\n",
    "        y.append(ts_output)\n",
    "\n",
    "    \n",
    "X = np.array(X)\n",
    "print X.shape, len(y), sys.getsizeof(X)/(1024*1024)\n",
    "\n"
   ]
  },
  {
   "cell_type": "code",
   "execution_count": 13,
   "metadata": {},
   "outputs": [
    {
     "name": "stdout",
     "output_type": "stream",
     "text": [
      "(292134, 7, 15) 292134 234\n"
     ]
    }
   ],
   "source": [
    "seq_length = 7\n",
    "\n",
    "X_TV = []\n",
    "y_TV = []\n",
    "\n",
    "for article in range(len(train_TV)):\n",
    "    for i in range(0, len(rows[article,0]) - seq_length, 1):\n",
    "        ts_data = rows[article, :, i: i + seq_length]\n",
    "        ts_data = np.rot90(ts_data, 3, (0,1))\n",
    "        ts_output = rows[article, 0, i + seq_length]\n",
    "        X_TV.append(ts_data)\n",
    "        y_TV.append(ts_output)\n",
    "\n",
    "    \n",
    "X_TV = np.array(X_TV)\n",
    "print X_TV.shape, len(y_TV), sys.getsizeof(X_TV)/(1024*1024)\n"
   ]
  },
  {
   "cell_type": "markdown",
   "metadata": {},
   "source": [
    "### Test Train Split\n",
    "Using the `train_test_split` function to split the data into training and testing datasets. For both the datasets\n"
   ]
  },
  {
   "cell_type": "code",
   "execution_count": 14,
   "metadata": {},
   "outputs": [
    {
     "name": "stdout",
     "output_type": "stream",
     "text": [
      "(2172000, 7, 15)\n"
     ]
    }
   ],
   "source": [
    "# Splitting the dataset into the Training set and Test set\n",
    "\n",
    "X_train, X_test, y_train, y_test = train_test_split(X, y, test_size = 0.2, shuffle=True)\n",
    "\n",
    "y_train = np.reshape(y_train,(-1,1))\n",
    "y_test = np.reshape(y_test, (-1,1))\n",
    "\n",
    "print X_train.shape"
   ]
  },
  {
   "cell_type": "code",
   "execution_count": 16,
   "metadata": {},
   "outputs": [
    {
     "name": "stdout",
     "output_type": "stream",
     "text": [
      "(233707, 7, 15)\n"
     ]
    }
   ],
   "source": [
    "# Splitting the dataset into the Training set and Test set\n",
    "X_TV_train, X_TV_test, y_TV_train, y_TV_test = train_test_split(X_TV, y_TV, test_size = 0.2, shuffle=False)\n",
    "\n",
    "y_TV_train = np.reshape(y_TV_train,(-1,1))\n",
    "y_TV_test = np.reshape(y_TV_test, (-1,1))\n",
    "\n",
    "print X_TV_train.shape"
   ]
  },
  {
   "cell_type": "markdown",
   "metadata": {},
   "source": [
    "### Model and Training\n",
    "The LSTM model is used for this dataset. An LSTM layer is followed by a Fully Connected layer. MAPE is used as a loss metric and Adam optimizer is used for training."
   ]
  },
  {
   "cell_type": "code",
   "execution_count": 13,
   "metadata": {},
   "outputs": [
    {
     "name": "stderr",
     "output_type": "stream",
     "text": [
      "Using TensorFlow backend.\n"
     ]
    },
    {
     "name": "stdout",
     "output_type": "stream",
     "text": [
      "Epoch 1/10\n",
      "2172000/2172000 [==============================] - 448s - loss: 487649.0102   \n",
      "Epoch 2/10\n",
      "2172000/2172000 [==============================] - 446s - loss: 398273.5806   \n",
      "Epoch 3/10\n",
      "2172000/2172000 [==============================] - 450s - loss: 393180.8019   \n",
      "Epoch 4/10\n",
      "2172000/2172000 [==============================] - 451s - loss: 436330.8600   \n",
      "Epoch 5/10\n",
      "2172000/2172000 [==============================] - 417s - loss: 342856.1882   \n",
      "Epoch 6/10\n",
      "2172000/2172000 [==============================] - 391s - loss: 311054.3035   \n",
      "Epoch 7/10\n",
      "2172000/2172000 [==============================] - 391s - loss: 419971.7033   \n",
      "Epoch 8/10\n",
      "2172000/2172000 [==============================] - 392s - loss: 404364.0420   \n",
      "Epoch 9/10\n",
      "2172000/2172000 [==============================] - 393s - loss: 417417.8668   \n",
      "Epoch 10/10\n",
      "2172000/2172000 [==============================] - 394s - loss: 404861.8402   \n"
     ]
    },
    {
     "data": {
      "text/plain": [
       "<keras.callbacks.History at 0x7f27fcaf32d0>"
      ]
     },
     "execution_count": 13,
     "metadata": {},
     "output_type": "execute_result"
    }
   ],
   "source": [
    "\n",
    "\n",
    "# Initialising the RNN\n",
    "regressor = Sequential()\n",
    "\n",
    "# Adding the input layerand the LSTM layer\n",
    "regressor.add(LSTM(units = 32, activation = 'relu', input_shape = (X_train.shape[1], X_train.shape[2])))\n",
    "\n",
    "\n",
    "# Adding the output layer\n",
    "regressor.add(Dense(units = 1))\n",
    "\n",
    "# Compiling the RNN\n",
    "regressor.compile(optimizer = 'adam', loss = 'mean_squared_error')\n",
    "\n",
    "tensorboard = TensorBoard(log_dir=\"logs/{}\".format(time()))\n",
    "\n",
    "# Fitting the RNN to the Training set\n",
    "regressor.fit(X_train, y_train, batch_size = 32, epochs = 10, verbose = 1)"
   ]
  },
  {
   "cell_type": "code",
   "execution_count": 22,
   "metadata": {},
   "outputs": [
    {
     "name": "stdout",
     "output_type": "stream",
     "text": [
      "(2172000, 1) 543000\n"
     ]
    }
   ],
   "source": [
    "inputs = X_test\n",
    "\n",
    "# Getting the predicted Web View\n",
    "y_pred = regressor.predict(inputs)\n",
    "\n",
    "print y_train.shape, len(y_test)\n"
   ]
  },
  {
   "cell_type": "code",
   "execution_count": null,
   "metadata": {},
   "outputs": [
    {
     "name": "stdout",
     "output_type": "stream",
     "text": [
      "Epoch 1/20\n",
      "233707/233707 [==============================] - 54s - loss: 107217.6962    \n",
      "Epoch 2/20\n",
      "233707/233707 [==============================] - 53s - loss: 91766.3750    \n",
      "Epoch 3/20\n",
      "233707/233707 [==============================] - 53s - loss: 77472.6286    \n",
      "Epoch 4/20\n",
      "233707/233707 [==============================] - 47s - loss: 89453.4210    \n",
      "Epoch 5/20\n",
      "233707/233707 [==============================] - 49s - loss: 68704.4673    \n",
      "Epoch 6/20\n",
      "233707/233707 [==============================] - 52s - loss: 65953.7759    \n",
      "Epoch 7/20\n",
      "233707/233707 [==============================] - 52s - loss: 67112.1191    \n",
      "Epoch 8/20\n",
      "233707/233707 [==============================] - 51s - loss: 92255.6801    \n",
      "Epoch 9/20\n",
      "233707/233707 [==============================] - 51s - loss: 62652.9610    \n",
      "Epoch 10/20\n",
      "233707/233707 [==============================] - 51s - loss: 70482.9568    \n",
      "Epoch 11/20\n",
      "233707/233707 [==============================] - 51s - loss: 66570.5557    \n",
      "Epoch 12/20\n",
      "233707/233707 [==============================] - 51s - loss: 69328.8238    \n",
      "Epoch 13/20\n",
      "233707/233707 [==============================] - 55s - loss: 66547.4868    \n",
      "Epoch 14/20\n",
      "233707/233707 [==============================] - 56s - loss: 57348.1341    \n",
      "Epoch 15/20\n",
      "233707/233707 [==============================] - 56s - loss: 63555.6590    \n",
      "Epoch 16/20\n",
      " 74944/233707 [========>.....................] - ETA: 40s - loss: 52664.9746"
     ]
    }
   ],
   "source": [
    "# Importing the Keras libraries and packages for LSTM\n",
    "from keras.models import Sequential\n",
    "from keras.layers import Dense\n",
    "from keras.layers import LSTM\n",
    "\n",
    "# Initialising the RNN\n",
    "regressor_TV = Sequential()\n",
    "\n",
    "# Adding the input layerand the LSTM layer\n",
    "regressor_TV.add(LSTM(units = 32, activation = 'relu', input_shape = (X_train.shape[1], X_train.shape[2])))\n",
    "\n",
    "\n",
    "# Adding the output layer\n",
    "regressor_TV.add(Dense(units = 1))\n",
    "\n",
    "tensorboard = TensorBoard(log_dir=\"logs_TV/{}\".format(time()))\n",
    "\n",
    "# Compiling the RNN\n",
    "regressor_TV.compile(optimizer = 'adam', loss = 'mean_squared_error')\n",
    "\n",
    "# Fitting the RNN to the Training set\n",
    "regressor_TV.fit(X_TV_train, y_TV_train, batch_size = 32, epochs = 20, verbose = 1)"
   ]
  },
  {
   "cell_type": "markdown",
   "metadata": {},
   "source": [
    "### Evaluation\n",
    "We evaluate the model visually as well as numerically. "
   ]
  },
  {
   "cell_type": "markdown",
   "metadata": {},
   "source": [
    "#### Numerical Evaluation\n",
    "We evaluate the loss on testing data and training data"
   ]
  },
  {
   "cell_type": "code",
   "execution_count": null,
   "metadata": {
    "collapsed": true
   },
   "outputs": [],
   "source": [
    "loss_train = regressor.evaluate(X_train, y_train,batch_size=32,verbose=1)\n",
    "loss_test = regressor.evaluate(X_test, y_test,batch_size=32,verbose=1)\n",
    "\n",
    "print '\\nTraining Loss: ', loss_train\n",
    "print 'Testing Loss: ', loss_test"
   ]
  },
  {
   "cell_type": "code",
   "execution_count": null,
   "metadata": {},
   "outputs": [],
   "source": [
    "loss_train = regressor_TV.evaluate(X_TV_train, y_TV_train,batch_size=32,verbose=1)\n",
    "loss_test = regressor_TV.evaluate(X_TV_test, y_TV_test,batch_size=32,verbose=1)\n",
    "\n",
    "print '\\nTraining Loss: ', loss_train\n",
    "print 'Testing Loss: ', loss_test"
   ]
  },
  {
   "cell_type": "markdown",
   "metadata": {},
   "source": [
    "#### Visual\n",
    "We plot the real data against the predicted data for each"
   ]
  },
  {
   "cell_type": "code",
   "execution_count": 128,
   "metadata": {},
   "outputs": [
    {
     "name": "stdout",
     "output_type": "stream",
     "text": [
      "(58427, 7, 15) 58427\n"
     ]
    }
   ],
   "source": [
    "inputs = X_test\n",
    "\n",
    "# Getting the predicted Web View\n",
    "y_pred = regressor.predict(inputs)\n",
    "\n",
    "print X_test.shape, len(y_test)"
   ]
  },
  {
   "cell_type": "code",
   "execution_count": null,
   "metadata": {
    "collapsed": true
   },
   "outputs": [],
   "source": [
    "inputs = X_TV_test\n",
    "\n",
    "# Getting the predicted Web View\n",
    "y_TV_pred = regressor_TV.predict(inputs)\n",
    "\n",
    "print X_TV_test.shape, len(y_TV_test)"
   ]
  },
  {
   "cell_type": "code",
   "execution_count": 129,
   "metadata": {},
   "outputs": [
    {
     "data": {
      "image/png": "[encoded data removed]",
      "text/plain": [
       "<matplotlib.figure.Figure at 0x7f2a886c6790>"
      ]
     },
     "metadata": {},
     "output_type": "display_data"
    },
    {
     "data": {
      "image/png": "[encoded data removed]",
      "text/plain": [
       "<matplotlib.figure.Figure at 0x7f2a876bcb10>"
      ]
     },
     "metadata": {},
     "output_type": "display_data"
    }
   ],
   "source": [
    "#Visualising Result\n",
    "plt.figure\n",
    "plt.plot(y_test[1200:1300], color = 'red', label = 'Real Web View')\n",
    "plt.plot(y_pred[1200:1300], color = 'blue', label = 'Predicted Web View')\n",
    "plt.title('Web View Forecasting')\n",
    "plt.xlabel('Number of Days from Start')\n",
    "plt.ylabel('Web View')\n",
    "plt.legend()\n",
    "plt.show()\n",
    "\n",
    "\n",
    "plt.figure\n",
    "plt.plot(y_test[1200:1220], color = 'red', label = 'Real Web View')\n",
    "plt.plot(y_pred[1200:1220], color = 'blue', label = 'Predicted Web View')\n",
    "plt.title('Web View Forecasting')\n",
    "plt.xlabel('Number of Days from Start')\n",
    "plt.ylabel('Web View')\n",
    "plt.legend()\n",
    "plt.show()"
   ]
  },
  {
   "cell_type": "code",
   "execution_count": null,
   "metadata": {},
   "outputs": [],
   "source": [
    "#Visualising Result\n",
    "plt.figure\n",
    "plt.plot(y_TV_test[1200:1300], color = 'red', label = 'Real Web View')\n",
    "plt.plot(y_TV_pred[1200:1300], color = 'blue', label = 'Predicted Web View')\n",
    "plt.title('Web View Forecasting')\n",
    "plt.xlabel('Number of Days from Start')\n",
    "plt.ylabel('Web View')\n",
    "plt.legend()\n",
    "plt.show()\n",
    "\n",
    "\n",
    "plt.figure\n",
    "plt.plot(y_TV_test[1200:1220], color = 'red', label = 'Real Web View')\n",
    "plt.plot(y_TV_pred[1200:1220], color = 'blue', label = 'Predicted Web View')\n",
    "plt.title('Web View Forecasting')\n",
    "plt.xlabel('Number of Days from Start')\n",
    "plt.ylabel('Web View')\n",
    "plt.legend()\n",
    "plt.show()"
   ]
  },
  {
   "cell_type": "markdown",
   "metadata": {},
   "source": [
    "### Save the model"
   ]
  },
  {
   "cell_type": "code",
   "execution_count": 91,
   "metadata": {
    "collapsed": true
   },
   "outputs": [],
   "source": [
    "regressor.save('model_500a_7ts_32u_lstm_adam_32b_10e.h5')"
   ]
  },
  {
   "cell_type": "code",
   "execution_count": null,
   "metadata": {
    "collapsed": true
   },
   "outputs": [],
   "source": [
    "regressor_TV.save('model_tv_7ts_32u_lstm_adam_32b_20e.h5')"
   ]
  },
  {
   "cell_type": "markdown",
   "metadata": {},
   "source": [
    "### Generative Model\n",
    "The code below can be used to create a generative model. Given a random seed, the same model can be used to generate the Web Traffic prediction for next 50 days."
   ]
  },
  {
   "cell_type": "code",
   "execution_count": null,
   "metadata": {},
   "outputs": [],
   "source": [
    "start = np.random.randint(0, len(X_TV_test)-1)\n",
    "pattern = X_TV_test[start,:,:]\n",
    "y_TV_gen = []\n",
    "gen_len = 50\n",
    "\n",
    "for i in range(gen_len):\n",
    "    x = np.reshape(pattern, (1, 7, 15))\n",
    "    prediction = regressor_TV.predict(x)\n",
    "    temp_x = x[:,:,14]\n",
    "    temp_x = [[temp_x[0][i+1] for i in range(len(temp_x[0])-1)]]\n",
    "    temp_x[0].append(prediction[0][0])\n",
    "    x[:,:,14] = temp_x\n",
    "    pattern = np.array(x)\n",
    "    y_TV_gen.append(prediction[0])\n"
   ]
  },
  {
   "cell_type": "code",
   "execution_count": null,
   "metadata": {},
   "outputs": [],
   "source": [
    "plt.figure\n",
    "plt.plot(y_TV_test[start:start+gen_len], color = 'red', label = 'Real Web View')\n",
    "plt.plot(y_TV_gen, color = 'blue', label = 'Predicted Web View')\n",
    "plt.title('Web View Forecasting')\n",
    "plt.xlabel('Number of Days from Start')\n",
    "plt.ylabel('Web View')\n",
    "plt.legend()\n",
    "plt.show()"
   ]
  },
  {
   "cell_type": "markdown",
   "metadata": {},
   "source": [
    "#### Rows giving good results\n",
    "11233 - \n",
    "13086 - The walking dead"
   ]
  }
 ],
 "metadata": {
  "kernelspec": {
   "display_name": "Python 2",
   "language": "python",
   "name": "python2"
  },
  "language_info": {
   "codemirror_mode": {
    "name": "ipython",
    "version": 2
   },
   "file_extension": ".py",
   "mimetype": "text/x-python",
   "name": "python",
   "nbconvert_exporter": "python",
   "pygments_lexer": "ipython2",
   "version": "2.7.13"
  }
 },
 "nbformat": 4,
 "nbformat_minor": 2
}
