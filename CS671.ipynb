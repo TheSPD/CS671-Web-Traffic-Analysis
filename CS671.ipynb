{
 "cells": [
  {
   "cell_type": "code",
   "execution_count": 1,
   "metadata": {
    "collapsed": true
   },
   "outputs": [],
   "source": [
    "#Importing Libraries\n",
    "import numpy as np\n",
    "import pandas as pd\n",
    "import matplotlib.pyplot as plt"
   ]
  },
  {
   "cell_type": "code",
   "execution_count": 2,
   "metadata": {
    "scrolled": true
   },
   "outputs": [
    {
     "data": {
      "text/html": [
       "<div>\n",
       "<style>\n",
       "    .dataframe thead tr:only-child th {\n",
       "        text-align: right;\n",
       "    }\n",
       "\n",
       "    .dataframe thead th {\n",
       "        text-align: left;\n",
       "    }\n",
       "\n",
       "    .dataframe tbody tr th {\n",
       "        vertical-align: top;\n",
       "    }\n",
       "</style>\n",
       "<table border=\"1\" class=\"dataframe\">\n",
       "  <thead>\n",
       "    <tr style=\"text-align: right;\">\n",
       "      <th></th>\n",
       "      <th>Page</th>\n",
       "      <th>2015-07-01</th>\n",
       "      <th>2015-07-02</th>\n",
       "      <th>2015-07-03</th>\n",
       "      <th>2015-07-04</th>\n",
       "      <th>2015-07-05</th>\n",
       "      <th>2015-07-06</th>\n",
       "      <th>2015-07-07</th>\n",
       "      <th>2015-07-08</th>\n",
       "      <th>2015-07-09</th>\n",
       "      <th>...</th>\n",
       "      <th>2016-12-22</th>\n",
       "      <th>2016-12-23</th>\n",
       "      <th>2016-12-24</th>\n",
       "      <th>2016-12-25</th>\n",
       "      <th>2016-12-26</th>\n",
       "      <th>2016-12-27</th>\n",
       "      <th>2016-12-28</th>\n",
       "      <th>2016-12-29</th>\n",
       "      <th>2016-12-30</th>\n",
       "      <th>2016-12-31</th>\n",
       "    </tr>\n",
       "  </thead>\n",
       "  <tbody>\n",
       "    <tr>\n",
       "      <th>0</th>\n",
       "      <td>2NE1_zh.wikipedia.org_all-access_spider</td>\n",
       "      <td>18.0</td>\n",
       "      <td>11.0</td>\n",
       "      <td>5.0</td>\n",
       "      <td>13.0</td>\n",
       "      <td>14.0</td>\n",
       "      <td>9.0</td>\n",
       "      <td>9.0</td>\n",
       "      <td>22.0</td>\n",
       "      <td>26.0</td>\n",
       "      <td>...</td>\n",
       "      <td>32.0</td>\n",
       "      <td>63.0</td>\n",
       "      <td>15.0</td>\n",
       "      <td>26.0</td>\n",
       "      <td>14.0</td>\n",
       "      <td>20.0</td>\n",
       "      <td>22.0</td>\n",
       "      <td>19.0</td>\n",
       "      <td>18.0</td>\n",
       "      <td>20.0</td>\n",
       "    </tr>\n",
       "    <tr>\n",
       "      <th>1</th>\n",
       "      <td>2PM_zh.wikipedia.org_all-access_spider</td>\n",
       "      <td>11.0</td>\n",
       "      <td>14.0</td>\n",
       "      <td>15.0</td>\n",
       "      <td>18.0</td>\n",
       "      <td>11.0</td>\n",
       "      <td>13.0</td>\n",
       "      <td>22.0</td>\n",
       "      <td>11.0</td>\n",
       "      <td>10.0</td>\n",
       "      <td>...</td>\n",
       "      <td>17.0</td>\n",
       "      <td>42.0</td>\n",
       "      <td>28.0</td>\n",
       "      <td>15.0</td>\n",
       "      <td>9.0</td>\n",
       "      <td>30.0</td>\n",
       "      <td>52.0</td>\n",
       "      <td>45.0</td>\n",
       "      <td>26.0</td>\n",
       "      <td>20.0</td>\n",
       "    </tr>\n",
       "    <tr>\n",
       "      <th>2</th>\n",
       "      <td>3C_zh.wikipedia.org_all-access_spider</td>\n",
       "      <td>1.0</td>\n",
       "      <td>0.0</td>\n",
       "      <td>1.0</td>\n",
       "      <td>1.0</td>\n",
       "      <td>0.0</td>\n",
       "      <td>4.0</td>\n",
       "      <td>0.0</td>\n",
       "      <td>3.0</td>\n",
       "      <td>4.0</td>\n",
       "      <td>...</td>\n",
       "      <td>3.0</td>\n",
       "      <td>1.0</td>\n",
       "      <td>1.0</td>\n",
       "      <td>7.0</td>\n",
       "      <td>4.0</td>\n",
       "      <td>4.0</td>\n",
       "      <td>6.0</td>\n",
       "      <td>3.0</td>\n",
       "      <td>4.0</td>\n",
       "      <td>17.0</td>\n",
       "    </tr>\n",
       "    <tr>\n",
       "      <th>3</th>\n",
       "      <td>4minute_zh.wikipedia.org_all-access_spider</td>\n",
       "      <td>35.0</td>\n",
       "      <td>13.0</td>\n",
       "      <td>10.0</td>\n",
       "      <td>94.0</td>\n",
       "      <td>4.0</td>\n",
       "      <td>26.0</td>\n",
       "      <td>14.0</td>\n",
       "      <td>9.0</td>\n",
       "      <td>11.0</td>\n",
       "      <td>...</td>\n",
       "      <td>32.0</td>\n",
       "      <td>10.0</td>\n",
       "      <td>26.0</td>\n",
       "      <td>27.0</td>\n",
       "      <td>16.0</td>\n",
       "      <td>11.0</td>\n",
       "      <td>17.0</td>\n",
       "      <td>19.0</td>\n",
       "      <td>10.0</td>\n",
       "      <td>11.0</td>\n",
       "    </tr>\n",
       "    <tr>\n",
       "      <th>4</th>\n",
       "      <td>52_Hz_I_Love_You_zh.wikipedia.org_all-access_s...</td>\n",
       "      <td>0.0</td>\n",
       "      <td>0.0</td>\n",
       "      <td>0.0</td>\n",
       "      <td>0.0</td>\n",
       "      <td>0.0</td>\n",
       "      <td>0.0</td>\n",
       "      <td>0.0</td>\n",
       "      <td>0.0</td>\n",
       "      <td>0.0</td>\n",
       "      <td>...</td>\n",
       "      <td>48.0</td>\n",
       "      <td>9.0</td>\n",
       "      <td>25.0</td>\n",
       "      <td>13.0</td>\n",
       "      <td>3.0</td>\n",
       "      <td>11.0</td>\n",
       "      <td>27.0</td>\n",
       "      <td>13.0</td>\n",
       "      <td>36.0</td>\n",
       "      <td>10.0</td>\n",
       "    </tr>\n",
       "  </tbody>\n",
       "</table>\n",
       "<p>5 rows × 551 columns</p>\n",
       "</div>"
      ],
      "text/plain": [
       "                                                Page  2015-07-01  2015-07-02  \\\n",
       "0            2NE1_zh.wikipedia.org_all-access_spider        18.0        11.0   \n",
       "1             2PM_zh.wikipedia.org_all-access_spider        11.0        14.0   \n",
       "2              3C_zh.wikipedia.org_all-access_spider         1.0         0.0   \n",
       "3         4minute_zh.wikipedia.org_all-access_spider        35.0        13.0   \n",
       "4  52_Hz_I_Love_You_zh.wikipedia.org_all-access_s...         0.0         0.0   \n",
       "\n",
       "   2015-07-03  2015-07-04  2015-07-05  2015-07-06  2015-07-07  2015-07-08  \\\n",
       "0         5.0        13.0        14.0         9.0         9.0        22.0   \n",
       "1        15.0        18.0        11.0        13.0        22.0        11.0   \n",
       "2         1.0         1.0         0.0         4.0         0.0         3.0   \n",
       "3        10.0        94.0         4.0        26.0        14.0         9.0   \n",
       "4         0.0         0.0         0.0         0.0         0.0         0.0   \n",
       "\n",
       "   2015-07-09     ...      2016-12-22  2016-12-23  2016-12-24  2016-12-25  \\\n",
       "0        26.0     ...            32.0        63.0        15.0        26.0   \n",
       "1        10.0     ...            17.0        42.0        28.0        15.0   \n",
       "2         4.0     ...             3.0         1.0         1.0         7.0   \n",
       "3        11.0     ...            32.0        10.0        26.0        27.0   \n",
       "4         0.0     ...            48.0         9.0        25.0        13.0   \n",
       "\n",
       "   2016-12-26  2016-12-27  2016-12-28  2016-12-29  2016-12-30  2016-12-31  \n",
       "0        14.0        20.0        22.0        19.0        18.0        20.0  \n",
       "1         9.0        30.0        52.0        45.0        26.0        20.0  \n",
       "2         4.0         4.0         6.0         3.0         4.0        17.0  \n",
       "3        16.0        11.0        17.0        19.0        10.0        11.0  \n",
       "4         3.0        11.0        27.0        13.0        36.0        10.0  \n",
       "\n",
       "[5 rows x 551 columns]"
      ]
     },
     "execution_count": 2,
     "metadata": {},
     "output_type": "execute_result"
    }
   ],
   "source": [
    "#Importing dataset\n",
    "train = pd.read_csv('./data/train_1.csv').fillna(0)\n",
    "page = train['Page']\n",
    "train.head()"
   ]
  },
  {
   "cell_type": "code",
   "execution_count": 3,
   "metadata": {
    "collapsed": true
   },
   "outputs": [],
   "source": [
    "import re\n",
    "\n",
    "def get_source(page):\n",
    "    res = re.search('_[a-z]+\\.[a-z]+\\.[a-z]+_[a-z\\-]+_[a-z]+',page)\n",
    "    if res:\n",
    "        return res.group().split('_')[1]\n",
    "    return 'na'\n",
    "\n",
    "def get_access(page):\n",
    "    res = re.search('_[a-z]+\\.[a-z]+\\.[a-z]+_[a-z\\-]+_[a-z]+',page)\n",
    "    if res:\n",
    "        return res.group().split('_')[2]\n",
    "    return 'na'\n",
    "\n",
    "def get_agent(page):\n",
    "    res = re.search('_[a-z]+\\.[a-z]+\\.[a-z]+_[a-z\\-]+_[a-z]+',page)\n",
    "    if res:\n",
    "        return res.group().split('_')[3]\n",
    "    return 'na'\n",
    "\n",
    "source = train.Page.map(get_source)\n",
    "access = train.Page.map(get_access)\n",
    "agent = train.Page.map(get_agent)\n",
    "\n",
    "from sklearn import preprocessing\n",
    "\n",
    "le = preprocessing.LabelEncoder()\n",
    "source = le.fit_transform(source)\n",
    "access = le.fit_transform(access)\n",
    "agent = le.fit_transform(agent)"
   ]
  },
  {
   "cell_type": "code",
   "execution_count": 4,
   "metadata": {
    "collapsed": true
   },
   "outputs": [],
   "source": [
    "train = train.drop('Page',axis = 1)"
   ]
  },
  {
   "cell_type": "code",
   "execution_count": 5,
   "metadata": {
    "collapsed": true
   },
   "outputs": [],
   "source": [
    "source = np.reshape(source, (-1,1))\n",
    "access = np.reshape(access, (-1,1))\n",
    "agent = np.reshape(agent, (-1,1))\n",
    "\n",
    "enc = preprocessing.OneHotEncoder()\n",
    "\n",
    "source = enc.fit_transform(source)\n",
    "access = enc.fit_transform(access)\n",
    "agent = enc.fit_transform(agent)"
   ]
  },
  {
   "cell_type": "code",
   "execution_count": 6,
   "metadata": {},
   "outputs": [
    {
     "name": "stdout",
     "output_type": "stream",
     "text": [
      "(145063, 9) (145063, 550)\n"
     ]
    }
   ],
   "source": [
    "print source.shape, train.shape\n",
    "\n",
    "import sys\n",
    "\n"
   ]
  },
  {
   "cell_type": "code",
   "execution_count": 7,
   "metadata": {},
   "outputs": [
    {
     "name": "stdout",
     "output_type": "stream",
     "text": [
      "(5000, 15, 550) 314\n"
     ]
    }
   ],
   "source": [
    "\n",
    "article = 4991\n",
    "\n",
    "\n",
    "\n",
    "rows = []\n",
    "\n",
    "\n",
    "# for article in range(len(train)):\n",
    "for article in range(5000):\n",
    "    row = train.iloc[article,:].values\n",
    "    row_len = len(row)\n",
    "    row = np.reshape(row,(1,row_len))\n",
    "    sourceCol = np.rot90(np.repeat(source[article,:].toarray(), row_len, axis=0),1,(0,1))\n",
    "    accessCol = np.rot90(np.repeat(access[article,:].toarray(), row_len, axis=0),1,(0,1))\n",
    "    agentCol = np.rot90(np.repeat(agent[article,:].toarray(), row_len, axis=0),1,(0,1))\n",
    "    row = np.append(row, sourceCol, axis=0)\n",
    "    row = np.append(row, accessCol, axis=0)\n",
    "    row = np.append(row, agentCol, axis=0)\n",
    "    rows.append(row)\n",
    "\n",
    "rows = np.array(rows)    \n",
    "print rows.shape, sys.getsizeof(rows)/(1024*1024)"
   ]
  },
  {
   "cell_type": "code",
   "execution_count": 8,
   "metadata": {
    "scrolled": true
   },
   "outputs": [
    {
     "name": "stdout",
     "output_type": "stream",
     "text": [
      "(2715000, 7, 15) 2715000 2174\n"
     ]
    }
   ],
   "source": [
    "seq_length = 7\n",
    "\n",
    "X = []\n",
    "y = []\n",
    "# for article in range(len(train)):\n",
    "for article in range(5000):\n",
    "    for i in range(0, len(rows[article,0]) - seq_length, 1):\n",
    "        ts_data = rows[article, :, i: i + seq_length]\n",
    "        ts_data = np.rot90(ts_data, 3, (0,1))\n",
    "        ts_output = rows[article, 0, i + seq_length]\n",
    "        X.append(ts_data)\n",
    "        y.append(ts_output)\n",
    "\n",
    "    \n",
    "X = np.array(X)\n",
    "print X.shape, len(y), sys.getsizeof(X)/(1024*1024)\n",
    "\n"
   ]
  },
  {
   "cell_type": "code",
   "execution_count": 9,
   "metadata": {},
   "outputs": [
    {
     "name": "stdout",
     "output_type": "stream",
     "text": [
      "(2172000, 7, 15)\n"
     ]
    }
   ],
   "source": [
    "# Splitting the dataset into the Training set and Test set\n",
    "from sklearn.model_selection import train_test_split\n",
    "X_train, X_test, y_train, y_test = train_test_split(X, y, test_size = 0.2, shuffle=True)\n",
    "\n",
    "# val_row =  (X_train.shape[2] - 1)\n",
    "\n",
    "\n",
    "# # Feature Scaling\n",
    "# from sklearn.preprocessing import MinMaxScaler\n",
    "# sc = MinMaxScaler(feature_range=(0, 1))\n",
    "# X_train_num = np.reshape(X_train[:,:,val_row],(-1,1))\n",
    "y_train = np.reshape(y_train,(-1,1))\n",
    "\n",
    "\n",
    "# X_train_num = sc.fit_transform(X_train_num)\n",
    "\n",
    "# y_train = sc.transform(y_train)\n",
    "\n",
    "# X_train_num = np.reshape(X_train_num, (X_train.shape[0], X_train.shape[1]))\n",
    "\n",
    "# X_train[:, :, val_row] = X_train_num\n",
    "\n",
    "# X_train = np.rot90(X_train, 1, (2, 1))\n",
    "\n",
    "print X_train.shape"
   ]
  },
  {
   "cell_type": "code",
   "execution_count": 11,
   "metadata": {},
   "outputs": [
    {
     "name": "stdout",
     "output_type": "stream",
     "text": [
      "[  96.   76.  108.  110.   97.   99.  159.] [[ 11.]\n",
      " [ 10.]\n",
      " [  6.]\n",
      " [ 22.]\n",
      " [  9.]\n",
      " [ 14.]\n",
      " [ 17.]]\n"
     ]
    }
   ],
   "source": [
    "print X_train[7, :, 14], y_train[:7]"
   ]
  },
  {
   "cell_type": "code",
   "execution_count": 12,
   "metadata": {},
   "outputs": [
    {
     "data": {
      "image/png": "[encoded data removed]",
      "text/plain": [
       "<matplotlib.figure.Figure at 0x7f28261271d0>"
      ]
     },
     "metadata": {},
     "output_type": "display_data"
    }
   ],
   "source": [
    "#Visualising Result\n",
    "plt.figure\n",
    "plt.plot(y_test, color = 'red', label = 'Real Web View')\n",
    "# plt.plot(y_pred, color = 'blue', label = 'Predicted Web View')\n",
    "plt.title('Web View Forecasting')\n",
    "plt.xlabel('Number of Days from Start')\n",
    "plt.ylabel('Web View')\n",
    "plt.legend()\n",
    "plt.show()"
   ]
  },
  {
   "cell_type": "code",
   "execution_count": 13,
   "metadata": {},
   "outputs": [
    {
     "name": "stderr",
     "output_type": "stream",
     "text": [
      "Using TensorFlow backend.\n"
     ]
    },
    {
     "name": "stdout",
     "output_type": "stream",
     "text": [
      "Epoch 1/10\n",
      "2172000/2172000 [==============================] - 448s - loss: 487649.0102   \n",
      "Epoch 2/10\n",
      "2172000/2172000 [==============================] - 446s - loss: 398273.5806   \n",
      "Epoch 3/10\n",
      "2172000/2172000 [==============================] - 450s - loss: 393180.8019   \n",
      "Epoch 4/10\n",
      "2172000/2172000 [==============================] - 451s - loss: 436330.8600   \n",
      "Epoch 5/10\n",
      "2172000/2172000 [==============================] - 417s - loss: 342856.1882   \n",
      "Epoch 6/10\n",
      "2172000/2172000 [==============================] - 391s - loss: 311054.3035   \n",
      "Epoch 7/10\n",
      "2172000/2172000 [==============================] - 391s - loss: 419971.7033   \n",
      "Epoch 8/10\n",
      "2172000/2172000 [==============================] - 392s - loss: 404364.0420   \n",
      "Epoch 9/10\n",
      "2172000/2172000 [==============================] - 393s - loss: 417417.8668   \n",
      "Epoch 10/10\n",
      "2172000/2172000 [==============================] - 394s - loss: 404861.8402   \n"
     ]
    },
    {
     "data": {
      "text/plain": [
       "<keras.callbacks.History at 0x7f27fcaf32d0>"
      ]
     },
     "execution_count": 13,
     "metadata": {},
     "output_type": "execute_result"
    }
   ],
   "source": [
    "# Importing the Keras libraries and packages for LSTM\n",
    "from keras.models import Sequential\n",
    "from keras.layers import Dense\n",
    "from keras.layers import LSTM\n",
    "\n",
    "# Initialising the RNN\n",
    "regressor = Sequential()\n",
    "\n",
    "# Adding the input layerand the LSTM layer\n",
    "regressor.add(LSTM(units = 32, activation = 'relu', input_shape = (X_train.shape[1], X_train.shape[2])))\n",
    "\n",
    "\n",
    "# Adding the output layer\n",
    "regressor.add(Dense(units = 1))\n",
    "\n",
    "# Compiling the RNN\n",
    "regressor.compile(optimizer = 'adam', loss = 'mean_squared_error')\n",
    "\n",
    "# Fitting the RNN to the Training set\n",
    "regressor.fit(X_train, y_train, batch_size = 32, epochs = 10, verbose = 1)"
   ]
  },
  {
   "cell_type": "code",
   "execution_count": 23,
   "metadata": {},
   "outputs": [
    {
     "name": "stdout",
     "output_type": "stream",
     "text": [
      "(2172000, 1) 543000\n"
     ]
    }
   ],
   "source": [
    "inputs = X_test\n",
    "# inputs_num = np.reshape(inputs[:,0,:],(-1,1))\n",
    "\n",
    "# inputs_num = sc.transform(inputs_num)\n",
    "\n",
    "# inputs_num = np.reshape(inputs_num, (X_test.shape[0], X_test.shape[2]))\n",
    "\n",
    "# inputs[:,0,:] = inputs_num\n",
    "# inputs = np.rot90(inputs,1, (2,1))\n",
    "\n",
    "# Getting the predicted Web View\n",
    "y_pred = regressor.predict(inputs)\n",
    "# y_pred = sc.inverse_transform(y_pred)\n",
    "print y_train.shape, len(y_test)\n"
   ]
  },
  {
   "cell_type": "code",
   "execution_count": 24,
   "metadata": {},
   "outputs": [
    {
     "data": {
      "image/png": "[encoded data removed]",
      "text/plain": [
       "<matplotlib.figure.Figure at 0x7f27fc669310>"
      ]
     },
     "metadata": {},
     "output_type": "display_data"
    },
    {
     "data": {
      "image/png": "[encoded data removed]",
      "text/plain": [
       "<matplotlib.figure.Figure at 0x7f27fc59abd0>"
      ]
     },
     "metadata": {},
     "output_type": "display_data"
    }
   ],
   "source": [
    "\n",
    "\n",
    "#Visualising Result\n",
    "plt.figure\n",
    "plt.plot(y_test[200:300], color = 'red', label = 'Real Web View')\n",
    "plt.plot(y_pred[200:300], color = 'blue', label = 'Predicted Web View')\n",
    "plt.title('Web View Forecasting')\n",
    "plt.xlabel('Number of Days from Start')\n",
    "plt.ylabel('Web View')\n",
    "plt.legend()\n",
    "plt.show()\n",
    "\n",
    "\n",
    "plt.figure\n",
    "plt.plot(y_test[100:120], color = 'red', label = 'Real Web View')\n",
    "plt.plot(y_pred[100:120], color = 'blue', label = 'Predicted Web View')\n",
    "plt.title('Web View Forecasting')\n",
    "plt.xlabel('Number of Days from Start')\n",
    "plt.ylabel('Web View')\n",
    "plt.legend()\n",
    "plt.show()"
   ]
  },
  {
   "cell_type": "code",
   "execution_count": 16,
   "metadata": {
    "collapsed": true
   },
   "outputs": [],
   "source": [
    "regressor.save('model_5000a_7ts_32u_lstm_adam_32b_10e_sh.h5')"
   ]
  },
  {
   "cell_type": "code",
   "execution_count": 16,
   "metadata": {},
   "outputs": [
    {
     "name": "stdout",
     "output_type": "stream",
     "text": [
      "[  6.   3.  15.  10.   7.   1.   4.] 4.0\n",
      "[ 0.08571429  0.04285714  0.21428571  0.14285714  0.1         0.01428571\n",
      "  0.05714286] [[ 0.08571429]\n",
      " [ 0.04285714]\n",
      " [ 0.21428571]\n",
      " [ 0.14285714]\n",
      " [ 0.1       ]\n",
      " [ 0.01428571]\n",
      " [ 0.05714286]]\n"
     ]
    }
   ],
   "source": [
    "print X[4491,0,:], y[4490]\n",
    "print X_train[4491,:,14], y_train[4491-7:4491]"
   ]
  },
  {
   "cell_type": "markdown",
   "metadata": {},
   "source": [
    "#### Rows giving good results\n",
    "11233 - \n",
    "13086 - The walking dead"
   ]
  }
 ],
 "metadata": {
  "kernelspec": {
   "display_name": "Python 2",
   "language": "python",
   "name": "python2"
  },
  "language_info": {
   "codemirror_mode": {
    "name": "ipython",
    "version": 2
   },
   "file_extension": ".py",
   "mimetype": "text/x-python",
   "name": "python",
   "nbconvert_exporter": "python",
   "pygments_lexer": "ipython2",
   "version": "2.7.13"
  }
 },
 "nbformat": 4,
 "nbformat_minor": 2
}
